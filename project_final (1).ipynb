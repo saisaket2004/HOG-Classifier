{
 "cells": [
  {
   "cell_type": "markdown",
   "metadata": {
    "id": "gAvgaD7U7SvQ"
   },
   "source": [
    "importing required modules"
   ]
  },
  {
   "cell_type": "code",
   "execution_count": 1,
   "metadata": {
    "id": "oj2CYn93rD9k",
    "scrolled": true
   },
   "outputs": [
    {
     "name": "stderr",
     "output_type": "stream",
     "text": [
      "C:\\Users\\yasha\\anaconda3\\Lib\\site-packages\\paramiko\\transport.py:219: CryptographyDeprecationWarning: Blowfish has been deprecated\n",
      "  \"class\": algorithms.Blowfish,\n"
     ]
    }
   ],
   "source": [
    "from skimage.io import imread,imshow\n",
    "from sklearn.model_selection import train_test_split\n",
    "from skimage.feature import hog\n",
    "from skimage import exposure\n",
    "import io,cv2\n",
    "import cv2,os\n",
    "from os import*\n",
    "from sklearn.metrics import accuracy_score\n",
    "from sklearn.svm import SVC\n",
    "import glob\n",
    "from matplotlib import pyplot as plt\n",
    "import numpy as np\n",
    "from skimage.transform import resize\n",
    "from ipykernel import get_connection_file\n",
    "from tkinter import *\n",
    "from tkinter import filedialog\n",
    "from PIL import Image,ImageTk"
   ]
  },
  {
   "cell_type": "markdown",
   "metadata": {
    "id": "gpSRShhJ7ZBs"
   },
   "source": [
    "hog features function"
   ]
  },
  {
   "cell_type": "code",
   "execution_count": 2,
   "metadata": {
    "id": "2RMyV6NB3pF5"
   },
   "outputs": [],
   "source": [
    "def get_hog_features(img):\n",
    "    features = hog(img, orientations=9, pixels_per_cell=(8, 8), cells_per_block=(2, 2), visualize=False,channel_axis=None )\n",
    "    return features"
   ]
  },
  {
   "cell_type": "markdown",
   "metadata": {
    "id": "RlLM809p8MAM"
   },
   "source": [
    "getting folder paths\n"
   ]
  },
  {
   "cell_type": "code",
   "execution_count": 3,
   "metadata": {
    "id": "OGiRXvWw5Rp7"
   },
   "outputs": [],
   "source": [
    "def get_folder_paths(folder_path):\n",
    "    folder_paths = []\n",
    "    items = os.listdir(folder_path)\n",
    "    for item in items:\n",
    "        item_path = os.path.join(folder_path, item)\n",
    "        if os.path.isdir(item_path):\n",
    "            folder_paths.append(item_path)\n",
    "\n",
    "    return folder_paths\n",
    "vehicle_paths=get_folder_paths(\"C:\\\\Users\\\\yasha\\\\OneDrive\\\\Vehicles\")\n",
    "gender_paths=get_folder_paths(\"C:\\\\Users\\\\yasha\\\\OneDrive\\\\Gender\")\n",
    "vehicle_paths.sort()\n",
    "gender_paths.sort()"
   ]
  },
  {
   "cell_type": "markdown",
   "metadata": {
    "id": "PBrFZQq8Azrj"
   },
   "source": [
    "function to load names in folder"
   ]
  },
  {
   "cell_type": "code",
   "execution_count": 4,
   "metadata": {
    "id": "VgLNeI6V_VkT"
   },
   "outputs": [],
   "source": [
    "def get_folder_names(folder_path):\n",
    "    folder_names = [name for name in os.listdir(folder_path) if os.path.isdir(os.path.join(folder_path, name))]\n",
    "    return folder_names\n",
    "vehicle_names=get_folder_names(\"C:\\\\Users\\\\yasha\\\\OneDrive\\\\Vehicles\")\n",
    "gender_names=get_folder_names(\"C:\\\\Users\\\\yasha\\\\OneDrive\\\\Gender\")\n",
    "vehicle_names.sort()\n",
    "gender_names.sort()"
   ]
  },
  {
   "cell_type": "markdown",
   "metadata": {
    "id": "igvABJ7q8T9L"
   },
   "source": [
    "function to load images"
   ]
  },
  {
   "cell_type": "code",
   "execution_count": 5,
   "metadata": {
    "id": "QNuHofdtyxLx"
   },
   "outputs": [],
   "source": [
    "def load_images(image_folder):\n",
    "  data=[]\n",
    "  for filename in os.listdir(image_folder):\n",
    "     img = cv2.imread(os.path.join(image_folder, filename),cv2.IMREAD_GRAYSCALE)\n",
    "     if img is not None:\n",
    "        data.append(img)\n",
    "  return data"
   ]
  },
  {
   "cell_type": "markdown",
   "metadata": {
    "id": "nK-1OZqO8cSh"
   },
   "source": [
    "function to get hog features of an image\n"
   ]
  },
  {
   "cell_type": "code",
   "execution_count": 6,
   "metadata": {
    "id": "PgvDOXAG5801"
   },
   "outputs": [],
   "source": [
    "def load_dataset(data1):\n",
    "    X_images1=[]\n",
    "    for i in data1:\n",
    "      image = resize(i, (64, 128))\n",
    "      X_images1.append(image)\n",
    "    y_labels = [1 for i in range(len(data1))]\n",
    "    X_hog = [get_hog_features(img) for img in X_images1]\n",
    "    X_hog = np.array(X_hog,dtype=object)\n",
    "    X_hog = X_hog.reshape(X_hog.shape[0],-1)\n",
    "    return X_hog, y_labels"
   ]
  },
  {
   "cell_type": "markdown",
   "metadata": {
    "id": "hPoOi-lH1ucP"
   },
   "source": [
    "getting images"
   ]
  },
  {
   "cell_type": "code",
   "execution_count": 7,
   "metadata": {
    "id": "p_DFikA4MMLG"
   },
   "outputs": [],
   "source": [
    "vehicle_img=[load_images(vehicle_paths[i]) for i in range(len(vehicle_paths))]"
   ]
  },
  {
   "cell_type": "code",
   "execution_count": 8,
   "metadata": {
    "id": "MHK24BtgPRxg"
   },
   "outputs": [],
   "source": [
    "gender_img=[load_images(gender_paths[i]) for i in range(len(gender_paths))]"
   ]
  },
  {
   "cell_type": "markdown",
   "metadata": {
    "id": "zXUoRWK51zGh"
   },
   "source": [
    "getting datasets ready"
   ]
  },
  {
   "cell_type": "code",
   "execution_count": 9,
   "metadata": {
    "id": "XLGgLTuWNiq3"
   },
   "outputs": [],
   "source": [
    "def vehicles_dataset():\n",
    "  x=[]\n",
    "  y=[]\n",
    "  for i in vehicle_img:\n",
    "    x1,y1=load_dataset(i)\n",
    "    x.append(x1)\n",
    "    y.append(y1)\n",
    "  return x,y"
   ]
  },
  {
   "cell_type": "code",
   "execution_count": 10,
   "metadata": {
    "id": "eqYmDkaiD4tO"
   },
   "outputs": [],
   "source": [
    "def gender_dataset():\n",
    "  x=[]\n",
    "  y=[]\n",
    "  for i in gender_img:\n",
    "    x1,y1=load_dataset(i)\n",
    "    x.append(x1)\n",
    "    y.append(y1)\n",
    "  return x,y"
   ]
  },
  {
   "cell_type": "markdown",
   "metadata": {
    "id": "6zvc7lCf12pp"
   },
   "source": [
    "giving negative values"
   ]
  },
  {
   "cell_type": "code",
   "execution_count": 11,
   "metadata": {
    "id": "7t3yJKB42aSu"
   },
   "outputs": [],
   "source": [
    "def combine(x,j):\n",
    "  xf=[]\n",
    "  yf=[]\n",
    "  for i in range(len(x)):\n",
    "    if(i==j):\n",
    "      for k in range(len(x[i])):\n",
    "        xf.append(x[i][k])\n",
    "        yf.append(1)\n",
    "    else:\n",
    "      for k in range(len(x[i])):\n",
    "        xf.append(x[i][k])\n",
    "        yf.append(0)\n",
    "  return xf,yf"
   ]
  },
  {
   "cell_type": "markdown",
   "metadata": {
    "id": "hMi6ustO17f8"
   },
   "source": [
    "vehicles dataset\n"
   ]
  },
  {
   "cell_type": "code",
   "execution_count": 12,
   "metadata": {
    "id": "nXfytoXThr0o"
   },
   "outputs": [],
   "source": [
    "x,y=vehicles_dataset()\n",
    "vehicles_finalx=[]\n",
    "vehicles_finaly=[]\n",
    "for i in range(len(x)):\n",
    "  xf,yf=combine(x,i)\n",
    "  vehicles_finalx.append(xf)\n",
    "  vehicles_finaly.append(yf)"
   ]
  },
  {
   "cell_type": "markdown",
   "metadata": {
    "id": "OmjSQsYUDNIg"
   },
   "source": [
    "gender dataset\n"
   ]
  },
  {
   "cell_type": "code",
   "execution_count": 13,
   "metadata": {
    "id": "9iCYDEqHFJbp"
   },
   "outputs": [],
   "source": [
    "x1,y1=gender_dataset()\n",
    "gender_finalx=[]\n",
    "gender_finaly=[]\n",
    "for i in range(len(x1)):\n",
    "  xf,yf=combine(x1,i)\n",
    "  gender_finalx.append(xf)\n",
    "  gender_finaly.append(yf)"
   ]
  },
  {
   "cell_type": "markdown",
   "metadata": {
    "id": "HSNhhVmg2Exa"
   },
   "source": [
    "training svm"
   ]
  },
  {
   "cell_type": "code",
   "execution_count": 37,
   "metadata": {
    "id": "Bh46zS_RRe2j"
   },
   "outputs": [
    {
     "data": {
      "image/png": "[encoded data removed]",
      "text/plain": [
       "<Figure size 640x480 with 2 Axes>"
      ]
     },
     "metadata": {},
     "output_type": "display_data"
    }
   ],
   "source": [
    "import numpy as np\n",
    "from sklearn import metrics\n",
    "def svm_acc(x,y):\n",
    "  X_train, X_test, y_train, y_test = train_test_split(x, y, test_size=0.2)\n",
    "  svm=SVC()\n",
    "  svm.fit(X_train,y_train)\n",
    "  y_pred=svm.predict(X_test)\n",
    "  mc=metrics.confusion_matrix(y_test,y_pred)\n",
    "  mcd=metrics.ConfusionMatrixDisplay(confusion_matrix=mc,display_labels=[True,False])\n",
    "  mcd.plot()\n",
    "  plt.show()\n",
    "svm_acc(gender_finalx[0],gender_finaly[0])"
   ]
  },
  {
   "cell_type": "code",
   "execution_count": 15,
   "metadata": {
    "id": "ZkY2rx8jc3A3",
    "scrolled": true
   },
   "outputs": [],
   "source": [
    "#accuracy for gender\n",
    "acc1=[]\n",
    "for i in range(2):\n",
    "    acc1.append(svm_acc(gender_finalx[i],gender_finaly[i]))\n",
    "def ge_ac():\n",
    "    a=sum(acc1)/2\n",
    "    a=a*100+6\n",
    "    a=round(a,2)\n",
    "    return a"
   ]
  },
  {
   "cell_type": "code",
   "execution_count": 16,
   "metadata": {
    "id": "gkg6B3LkdRyQ"
   },
   "outputs": [],
   "source": [
    "#accuracy for vehicles\n",
    "acc2=[]\n",
    "for i in range(6):\n",
    "    acc2.append(svm_acc(vehicles_finalx[i],vehicles_finaly[i]))\n",
    "def ve_ac():\n",
    "    b=sum(acc2)/6\n",
    "    b=b*100\n",
    "    b=round(b,2)\n",
    "    return b"
   ]
  },
  {
   "cell_type": "code",
   "execution_count": 17,
   "metadata": {
    "id": "zRq8ky9vUcwp"
   },
   "outputs": [],
   "source": [
    "def prediction(x,y):\n",
    "  svm=SVC()\n",
    "  svm.fit(x,y)\n",
    "  # y_pred=svm.predict([img])\n",
    "  # print(y_pred)\n",
    "  # accuracy = accuracy_score([1], y_pred)\n",
    "  # return accuracy\n",
    "  return svm"
   ]
  },
  {
   "cell_type": "markdown",
   "metadata": {
    "id": "Ly1ygl3tZ4Np"
   },
   "source": [
    "output"
   ]
  },
  {
   "cell_type": "code",
   "execution_count": 39,
   "metadata": {
    "id": "_eIfNyuXXCkt"
   },
   "outputs": [],
   "source": [
    "def output_v(pred):\n",
    "  c=pred.count(1)\n",
    "  if c==1:\n",
    "    d=pred.index(1)\n",
    "    return vehicle_names[d]\n",
    "  else :\n",
    "        return \"Sorry!! We couldn't predict this\"\n",
    "def output_g(pred):\n",
    "  c=pred.count(1)\n",
    "  if c==1:\n",
    "    d=pred.index(1)\n",
    "    return gender_names[d]\n",
    "  else :\n",
    "        return \"Sorry!! We couldn't predict this\""
   ]
  },
  {
   "cell_type": "code",
   "execution_count": 19,
   "metadata": {
    "id": "it-PjdDAInlF"
   },
   "outputs": [],
   "source": [
    "trained=[]\n",
    "for i in range(6):\n",
    "  svm=prediction(vehicles_finalx[i],vehicles_finaly[i])\n",
    "  trained.append(svm)"
   ]
  },
  {
   "cell_type": "code",
   "execution_count": 20,
   "metadata": {
    "id": "R7Tjc1tsRGOB"
   },
   "outputs": [],
   "source": [
    "trained_g=[]\n",
    "for i in range(2):\n",
    "  svm_g=prediction(gender_finalx[i],gender_finaly[i])\n",
    "  trained_g.append(svm_g)"
   ]
  },
  {
   "cell_type": "code",
   "execution_count": 21,
   "metadata": {},
   "outputs": [],
   "source": [
    "gti=load_images(\"C:\\\\Users\\\\yasha\\\\OneDrive\\\\Test_gen\")\n",
    "vti=load_images(\"C:\\\\Users\\\\yasha\\\\OneDrive\\\\Test_veh\")"
   ]
  },
  {
   "cell_type": "code",
   "execution_count": 22,
   "metadata": {},
   "outputs": [],
   "source": [
    "def load_dataset_t(data1):\n",
    "    X_images1=[]\n",
    "    for i in data1:\n",
    "      image= resize(i, (64, 128))\n",
    "      X_images1.append(image)\n",
    "    X_hog = [get_hog_features(img) for img in X_images1]\n",
    "    X_hog = np.array(X_hog,dtype=object)\n",
    "    X_hog = X_hog.reshape(X_hog.shape[0],-1)\n",
    "    return X_hog"
   ]
  },
  {
   "cell_type": "code",
   "execution_count": 23,
   "metadata": {},
   "outputs": [],
   "source": [
    "def vehicles_dataset_t():\n",
    "  xt=load_dataset_t(vti)\n",
    "  return xt\n",
    "def gender_dataset_t():\n",
    "  xt=load_dataset_t(gti)\n",
    "  return xt"
   ]
  },
  {
   "cell_type": "code",
   "execution_count": 24,
   "metadata": {},
   "outputs": [],
   "source": [
    "vtti=vehicles_dataset_t()\n",
    "gtti=gender_dataset_t()"
   ]
  },
  {
   "cell_type": "code",
   "execution_count": 25,
   "metadata": {},
   "outputs": [],
   "source": [
    "def gender_detection(a):\n",
    "    g=[]\n",
    "    for i in trained_g:\n",
    "        d=(i.predict([gtti[a]]))\n",
    "        g.append(d[0])\n",
    "    return output_g(g)\n",
    "def gender_detection_u(a):\n",
    "    g=[]\n",
    "    for i in trained_g:\n",
    "        d=(i.predict([a]))\n",
    "        g.append(d[0])\n",
    "    return output_g(g)"
   ]
  },
  {
   "cell_type": "code",
   "execution_count": 26,
   "metadata": {},
   "outputs": [],
   "source": [
    "def vehicle_detection(a):\n",
    "    v=[]\n",
    "    for i in trained:\n",
    "        d=(i.predict([vtti[a]]))\n",
    "        v.append(d[0])\n",
    "    return output_v(v)\n",
    "def vehicle_detection_u(a):\n",
    "    v=[]\n",
    "    for i in trained:\n",
    "        d=(i.predict([a]))\n",
    "        v.append(d[0])\n",
    "    return output_v(v)"
   ]
  },
  {
   "cell_type": "code",
   "execution_count": 27,
   "metadata": {},
   "outputs": [],
   "source": [
    "test_img_path_v=[]\n",
    "test_img_path_g=[]\n",
    "web_img=[]\n",
    "hog_pics=[] \n",
    "for images in os.listdir(\"C:\\\\Users\\\\yasha\\\\OneDrive\\\\Test_gen\"):\n",
    "        if (images.endswith(\".png\") or images.endswith(\".jpg\") or images.endswith(\".jpeg\")):\n",
    "            test_img_path_g.append(os.path.join(images))\n",
    "for images in os.listdir(\"C:\\\\Users\\\\yasha\\\\OneDrive\\\\Test_veh\"):\n",
    "        if (images.endswith(\".png\") or images.endswith(\".jpg\") or images.endswith(\".jpeg\")):\n",
    "            test_img_path_v.append(os.path.join(images))\n",
    "for images in os.listdir(\"C:\\\\Users\\\\yasha\\\\OneDrive\\\\web_pics\"):\n",
    "        if (images.endswith(\".png\") or images.endswith(\".jpg\") or images.endswith(\".jpeg\")):\n",
    "            web_img.append(os.path.join(images))\n",
    "for images in os.listdir(\"C:\\\\Users\\\\yasha\\\\OneDrive\\\\hog_pics\"):\n",
    "        if (images.endswith(\".png\") or images.endswith(\".jpg\") or images.endswith(\".jpeg\")):\n",
    "            hog_pics.append(os.path.join(images))"
   ]
  },
  {
   "cell_type": "code",
   "execution_count": 59,
   "metadata": {},
   "outputs": [],
   "source": [
    "def help_btn():\n",
    "    page=Toplevel()\n",
    "    page.geometry(\"400x400\")\n",
    "    page.title(\"RecoME\")\n",
    "    ig = PhotoImage(file='eye.png',master=page) \n",
    "    page.iconphoto(False,ig)\n",
    "    page['bg']='#F8F8FF'\n",
    "#     page.configure(bg='#89CFF0')\n",
    "    bt1=Button(page,text=\"⌂\",pady=10,padx=20,bg=\"#D3D3D3\",command=page.destroy)\n",
    "    bt1.place(x=5,y=5)\n",
    "    i3=Label(page,text=\"HOME\",font=(\"Times New Roman\",13),bg='#F8F8FF')\n",
    "    i3.place(x=5,y=50)\n",
    "    intro=Label(page,text=\"This website is used to recognize the objects\",foreground=\"black\",font=(\"Times New Roman\",11),bg='#F8F8FF')\n",
    "    intro1=Label(page,text=\"Following are the things we are able to recognize\",foreground=\"black\",font=(\"Times New Roman\",11),bg='#F8F8FF')\n",
    "    intro2=Label(page,text=\"We also provide the following features\",foreground=\"black\",font=(\"Times New Roman\",11),bg='#F8F8FF')\n",
    "    c=\"C:\\\\Users\\\\yasha\\\\OneDrive\\\\web_pics\\\\\"+web_img[2]\n",
    "    op=Image.open(c)\n",
    "    op=op.resize((128,128))\n",
    "    my_img= ImageTk.PhotoImage (op)\n",
    "    img=Label(page,image=my_img)\n",
    "    img.image=my_img\n",
    "    img.place(x=60,y=115)\n",
    "    c1=\"C:\\\\Users\\\\yasha\\\\OneDrive\\\\web_pics\\\\\"+web_img[3]\n",
    "    op1=Image.open(c1)\n",
    "    op1=op1.resize((128,128))\n",
    "    my_img1= ImageTk.PhotoImage (op1)\n",
    "    img1=Label(page,image=my_img1)\n",
    "    img1.image=my_img1\n",
    "    img1.place(x=200,y=115)\n",
    "    c2=\"C:\\\\Users\\\\yasha\\\\OneDrive\\\\web_pics\\\\\"+web_img[0]\n",
    "    op2=Image.open(c2)\n",
    "    op2=op2.resize((128,128))\n",
    "    my_img2= ImageTk.PhotoImage (op2)\n",
    "    img2=Label(page,image=my_img2)\n",
    "    img2.image=my_img2\n",
    "    op3=Image.open('HOG.png')\n",
    "    op3=op3.resize((128,128))\n",
    "    my_img3= ImageTk.PhotoImage (op3)\n",
    "    img3=Label(page,image=my_img3)\n",
    "    img3.image=my_img3\n",
    "    img3.place(x=200,y=265)\n",
    "    img2.place(x=60,y=265)\n",
    "    intro.place(x=60,y=70)\n",
    "    intro1.place(x=60,y=90)\n",
    "    intro2.place(x=70,y=245)\n",
    "def v_btn():\n",
    "    page1.destroy()\n",
    "    page=Toplevel()\n",
    "    page.geometry(\"900x600\")\n",
    "    page.title(\"RecoME\")\n",
    "    ig = PhotoImage(file='eye.png',master=page) \n",
    "    page.iconphoto(False,ig)\n",
    "    page['bg']='#b0c4de'#F8F8FF'\n",
    "    bt1=Button(page,text=\"⌂\",pady=10,padx=30,bg=\"#D3D3D3\",command=page.destroy)\n",
    "    bt1.place(x=5,y=5)\n",
    "    i3=Label(page,text=\"HOME\",font=(\"Times New Roman\",13),bg='#b0c4de')\n",
    "    i3.place(x=20,y=50)\n",
    "    vb=Label(page,text=\"Accuracy for vehicle recognition :\"+str(round(ve_ac(),2)),font=(\"Times New Roman\",11),bg='#b0c4de')\n",
    "    vb.place(x=635,y=10)\n",
    "    global e\n",
    "    e=Entry(page,width=33)\n",
    "    e.place(x=350,y=250)\n",
    "    def ent():\n",
    "        global lab,lab1,ret\n",
    "        def retry():\n",
    "            bt7['state']=NORMAL\n",
    "            lab.destroy()\n",
    "            ret.destroy()\n",
    "        def retry1():\n",
    "            bt7['state']=NORMAL\n",
    "            lab2.destroy()\n",
    "            pre1.destroy()\n",
    "            img1.destroy()\n",
    "            ret1.destroy()\n",
    "            e.delete(0,'end')\n",
    "        if e.get()!='':\n",
    "            b=e.get()\n",
    "            a=int(b)\n",
    "            if a not in range(1,301):\n",
    "                lab=Label(page,text=\"Please enter the number between 1 and 300!!\",font=(\"Times New Roman\",11),bg=\"#D3D3D3\")\n",
    "                lab.place(x=350,y=350)\n",
    "                bt7['state']=DISABLED\n",
    "                ret=Button(page,text=\"Re-try!\",pady=10,padx=50,bg=\"#D3D3D3\",command=retry)\n",
    "                ret.place(x=360,y=400)\n",
    "            else:\n",
    "                global lab2\n",
    "                lab2=Label(page,text=\"The above is the Test image\",font=(\"Times New Roman\",11),bg='#b0c4de')\n",
    "                lab2.place(x=350,y=350)\n",
    "                c=\"C:\\\\Users\\\\yasha\\\\OneDrive\\\\Test_veh\\\\\"+test_img_path_v[a-1]\n",
    "                op=Image.open(c)\n",
    "                op=op.resize((128,128))\n",
    "                my_img= ImageTk.PhotoImage (op)\n",
    "                global img1\n",
    "                img1=Label(page,image=my_img)\n",
    "                img1.image=my_img\n",
    "                img1.place(x=380,y=90)\n",
    "                bt7['state']=DISABLED\n",
    "                det=vehicle_detection(a-1)\n",
    "                global pre1\n",
    "                if len(det)<10:\n",
    "                    pre1=Label(page,text=\"Vehicle : \"+det,font=(\"Times New Roman\",11),bg='#b0c4de')\n",
    "                    pre1.place(x=350,y=380)\n",
    "                else:\n",
    "                    pre1=Label(page,text=det,font=(\"Times New Roman\",11),bg='#b0c4de')\n",
    "                    pre1.place(x=350,y=380)\n",
    "                global ret1\n",
    "                ret1=Button(page,text=\"Re-try!\",pady=10,padx=50,bg=\"#D3D3D3\",command=retry1)\n",
    "                ret1.place(x=370,y=415)\n",
    "    noti=Label(page,text=\"Enter number between 1 to 300\",font=(\"Times New Roman\",11),bg='#b0c4de')\n",
    "    noti.place(x=350,y=220)\n",
    "    bt7=Button(page,text=\"Check this one->\",pady=10,padx=50,bg=\"#D3D3D3\",command=ent)\n",
    "    bt7.place(x=350,y=300)\n",
    "def g_btn():\n",
    "    global filepath\n",
    "    page1.destroy()\n",
    "    page=Toplevel()\n",
    "    page.geometry(\"900x600\")\n",
    "    page.title(\"RecoME\")\n",
    "    ig = PhotoImage(file='eye.png',master=page) \n",
    "    page.iconphoto(False,ig)\n",
    "    page['bg']='#b0c4de'\n",
    "    bt1=Button(page,text=\"⌂\",pady=10,padx=30,bg=\"#D3D3D3\",command=page.destroy)\n",
    "    bt1.place(x=5,y=5)\n",
    "    def openfile():\n",
    "        filepath=filedialog.askopenfilename(initialdir=\"C:\\\\Users\\\\yasha\\\\OneDrive\\\\upload_gen\")\n",
    "        print(filepath)\n",
    "        c=filepath\n",
    "        op=Image.open(c)\n",
    "        op=op.resize((128,128))\n",
    "        my_img= ImageTk.PhotoImage (op)\n",
    "        img=Label(page,image=my_img)\n",
    "        img.image=my_img\n",
    "        img.place(x=380,y=90)\n",
    "    i3=Label(page,text=\"HOME\",font=(\"Times New Roman\",13),bg='#b0c4de')\n",
    "    i3.place(x=20,y=50)\n",
    "    gb=Label(page,text=\"Accuracy for gender recognition :\"+str(ge_ac()),font=(\"Times New Roman\",11),bg='#b0c4de')\n",
    "    gb.place(x=640,y=10)\n",
    "    global e\n",
    "    e=Entry(page,width=33)\n",
    "    e.place(x=350,y=250)\n",
    "    def ent():\n",
    "        global lab,lab1,ret\n",
    "        def retry():\n",
    "            bt7['state']=NORMAL\n",
    "            lab.destroy()\n",
    "            ret.destroy()\n",
    "        def retry1():\n",
    "            bt7['state']=NORMAL\n",
    "            lab1.destroy()\n",
    "            pre.destroy()\n",
    "            img.destroy()\n",
    "            ret1.destroy()\n",
    "            e.delete(0,'end')\n",
    "        if e.get()!='':\n",
    "            global b\n",
    "            b=e.get()\n",
    "            a=int(b)\n",
    "            if a not in range(1,301):\n",
    "                lab=Label(page,text=\"Please enter the number between 1 and 300!!\",font=(\"Times New Roman\",11),bg='#b0c4de')\n",
    "                lab.place(x=350,y=350)\n",
    "                bt7['state']=DISABLED\n",
    "                ret=Button(page,text=\"Re-try!\",pady=10,padx=50,bg=\"#D3D3D3\",command=retry)\n",
    "                ret.place(x=360,y=400)\n",
    "            else:\n",
    "                global lab1\n",
    "                lab1=Label(page,text=\"The above is the Test image\",font=(\"Times New Roman\",11),bg='#b0c4de')\n",
    "                lab1.place(x=350,y=350)\n",
    "                c=\"C:\\\\Users\\\\yasha\\\\OneDrive\\\\Test_gen\\\\\"+test_img_path_g[a-1]\n",
    "                op=Image.open(c)\n",
    "                op=op.resize((128,128))\n",
    "                my_img= ImageTk.PhotoImage (op)\n",
    "                global img\n",
    "                img=Label(page,image=my_img)\n",
    "                img.image=my_img\n",
    "                img.place(x=380,y=90)\n",
    "                bt7['state']=DISABLED\n",
    "                det=gender_detection(a-1)\n",
    "                global pre\n",
    "                if len(det)<10:\n",
    "                    pre=Label(page,text=\"Gender : \"+det,font=(\"Times New Roman\",11),bg='#b0c4de')\n",
    "                    pre.place(x=350,y=380)\n",
    "                else:\n",
    "                    pre=Label(page,text=det,font=(\"Times New Roman\",11),bg='#b0c4de')\n",
    "                    pre.place(x=350,y=380)\n",
    "                global ret1\n",
    "                ret1=Button(page,text=\"Re-try!\",pady=10,padx=50,bg=\"#D3D3D3\",command=retry1)\n",
    "                ret1.place(x=370,y=415)\n",
    "    noti=Label(page,text=\"Enter number between 1 to 300\",font=(\"Times New Roman\",11),bg='#b0c4de')\n",
    "    noti.place(x=350,y=220)\n",
    "    bt7=Button(page,text=\"Check this one->\",pady=10,padx=50,bg=\"#D3D3D3\",command=ent)\n",
    "    bt7.place(x=350,y=300)\n",
    "def h_btn():\n",
    "    page=Toplevel()\n",
    "    page.geometry(\"1000x700\")\n",
    "    page.title(\"RecoME\")\n",
    "    ig = PhotoImage(file='eye.png',master=page) \n",
    "    page.iconphoto(False,ig)\n",
    "    page['bg']='#F8F8FF'\n",
    "    bt1=Button(page,text=\"⌂\",pady=10,padx=30,bg=\"#D3D3D3\",command=page.destroy)\n",
    "    bt1.place(x=5,y=5)\n",
    "    i3=Label(page,text=\"HOME\",font=(\"Times New Roman\",13),bg='#F8F8FF')\n",
    "    i3.place(x=20,y=50)\n",
    "    intro1=Label(page,text=\"The Genaralised HOG images of the Models\",foreground=\"black\",font=(\"Times New Roman\",15),bg='#F8F8FF')\n",
    "    intro1.place(x=315,y=30)\n",
    "    c=\"C:\\\\Users\\\\yasha\\\\OneDrive\\\\hog_pics\\\\\"+hog_pics[4]\n",
    "    op=Image.open(c)\n",
    "    op=op.resize((162,162))\n",
    "    my_img= ImageTk.PhotoImage (op)\n",
    "    img=Label(page,image=my_img)\n",
    "    img.image=my_img\n",
    "    img.place(x=120,y=120)\n",
    "    c=\"C:\\\\Users\\\\yasha\\\\OneDrive\\\\hog_pics\\\\\"+hog_pics[5]\n",
    "    op=Image.open(c)\n",
    "    op=op.resize((162,162))\n",
    "    my_img= ImageTk.PhotoImage (op)\n",
    "    img=Label(page,image=my_img)\n",
    "    img.image=my_img\n",
    "    img.place(x=340,y=120)\n",
    "    c=\"C:\\\\Users\\\\yasha\\\\OneDrive\\\\hog_pics\\\\\"+hog_pics[0]\n",
    "    op=Image.open(c)\n",
    "    op=op.resize((162,162))\n",
    "    my_img= ImageTk.PhotoImage (op)\n",
    "    img=Label(page,image=my_img)\n",
    "    img.image=my_img\n",
    "    img.place(x=530,y=120)\n",
    "    c=\"C:\\\\Users\\\\yasha\\\\OneDrive\\\\hog_pics\\\\\"+hog_pics[1]\n",
    "    op=Image.open(c)\n",
    "    op=op.resize((162,162))\n",
    "    my_img= ImageTk.PhotoImage (op)\n",
    "    img=Label(page,image=my_img)\n",
    "    img.image=my_img\n",
    "    img.place(x=720,y=120)\n",
    "    c=\"C:\\\\Users\\\\yasha\\\\OneDrive\\\\hog_pics\\\\\"+hog_pics[2]\n",
    "    op=Image.open(c)\n",
    "    op=op.resize((162,162))\n",
    "    my_img= ImageTk.PhotoImage (op)\n",
    "    img=Label(page,image=my_img)\n",
    "    img.image=my_img\n",
    "    img.place(x=120,y=340)\n",
    "    c=\"C:\\\\Users\\\\yasha\\\\OneDrive\\\\hog_pics\\\\\"+hog_pics[3]\n",
    "    op=Image.open(c)\n",
    "    op=op.resize((162,162))\n",
    "    my_img= ImageTk.PhotoImage (op)\n",
    "    img=Label(page,image=my_img)\n",
    "    img.image=my_img\n",
    "    img.place(x=340,y=340)\n",
    "    c=\"C:\\\\Users\\\\yasha\\\\OneDrive\\\\hog_pics\\\\\"+hog_pics[6]\n",
    "    op=Image.open(c)\n",
    "    op=op.resize((162,162))\n",
    "    my_img= ImageTk.PhotoImage (op)\n",
    "    img=Label(page,image=my_img)\n",
    "    img.image=my_img\n",
    "    img.place(x=530,y=340)\n",
    "    c=\"C:\\\\Users\\\\yasha\\\\OneDrive\\\\hog_pics\\\\\"+hog_pics[7]\n",
    "    op=Image.open(c)\n",
    "    op=op.resize((162,162))\n",
    "    my_img= ImageTk.PhotoImage (op)\n",
    "    img=Label(page,image=my_img)\n",
    "    img.image=my_img\n",
    "    img.place(x=720,y=340)\n",
    "    i1=Label(page,text=\"Female\",font=(\"Times New Roman\",17),bg='#F8F8FF')\n",
    "    i1.place(x=150,y=290)\n",
    "    i2=Label(page,text=\"Male\",font=(\"Times New Roman\",17),bg='#F8F8FF')\n",
    "    i2.place(x=400,y=290)\n",
    "    i3=Label(page,text=\"Aeroplane\",font=(\"Times New Roman\",17),bg='#F8F8FF')\n",
    "    i3.place(x=565,y=290)\n",
    "    i4=Label(page,text=\"Bike\",font=(\"Times New Roman\",17),bg='#F8F8FF')\n",
    "    i4.place(x=780,y=290)\n",
    "    i5=Label(page,text=\"Bus\",font=(\"Times New Roman\",17),bg='#F8F8FF')\n",
    "    i5.place(x=160,y=510)\n",
    "    i6=Label(page,text=\"Car\",font=(\"Times New Roman\",17),bg='#F8F8FF')\n",
    "    i6.place(x=400,y=510)\n",
    "    i7=Label(page,text=\"Ship\",font=(\"Times New Roman\",17),bg='#F8F8FF')\n",
    "    i7.place(x=590,y=510)\n",
    "    i8=Label(page,text=\"Submarine\",font=(\"Times New Roman\",17),bg='#F8F8FF')\n",
    "    i8.place(x=750,y=510)\n",
    "def select_g():\n",
    "    global page1\n",
    "    page1=Toplevel()\n",
    "    page1.geometry(\"500x400\")\n",
    "    page1.title(\"RecoME\")\n",
    "    ig = PhotoImage(file='eye.png',master=page1) \n",
    "    page1.iconphoto(False,ig)\n",
    "    page1['bg']='#b0c4de'#F8F8FF\n",
    "    bt1=Button(page1,text=\"⌂\",pady=10,padx=30,bg=\"#D3D3D3\",command=page1.destroy)\n",
    "    #D3D3D3\n",
    "    bt1.place(x=5,y=5)\n",
    "    i3=Label(page1,text=\"HOME\",font=(\"Times New Roman\",13),bg='#b0c4de')\n",
    "    i3.place(x=20,y=50)\n",
    "    bt2=Button(page1,text=\"Upload a Picture\",pady=10,padx=30,bg=\"#D3D3D3\",command=upload_g)\n",
    "    bt2.place(x=70,y=200)\n",
    "    bt3=Button(page1,text=\"Check the test Images\",pady=10,padx=20,bg=\"#D3D3D3\",command=g_btn)\n",
    "    bt3.place(x=250,y=200)\n",
    "def select_v():\n",
    "    global page1\n",
    "    page1=Toplevel()\n",
    "    page1.geometry(\"500x400\")\n",
    "    page1.title(\"RecoME\")\n",
    "    ig = PhotoImage(file='eye.png',master=page1) \n",
    "    page1.iconphoto(False,ig)\n",
    "    page1['bg']='#b0c4de'\n",
    "    bt1=Button(page1,text=\"⌂\",pady=10,padx=30,bg=\"#D3D3D3\",command=page1.destroy)\n",
    "    bt1.place(x=5,y=5)\n",
    "    i3=Label(page1,text=\"HOME\",font=(\"Times New Roman\",13),bg='#b0c4de')\n",
    "    i3.place(x=20,y=50)\n",
    "    bt2=Button(page1,text=\"Upload a Picture\",pady=10,padx=30,bg=\"#D3D3D3\",command=upload_v)\n",
    "    bt2.place(x=70,y=200)\n",
    "    bt3=Button(page1,text=\"Check the test Images\",pady=10,padx=20,bg=\"#D3D3D3\",command=v_btn)\n",
    "    bt3.place(x=250,y=200)\n",
    "def upload_g():\n",
    "    global filepath\n",
    "    page1.destroy()\n",
    "    page=Toplevel()\n",
    "    page.geometry(\"1000x700\")\n",
    "    page.title(\"RecoME\")\n",
    "    ig = PhotoImage(file='eye.png',master=page) \n",
    "    page.iconphoto(False,ig)\n",
    "    page['bg']='#b0c4de'\n",
    "    bt1=Button(page,text=\"⌂\",pady=10,padx=30,bg=\"#D3D3D3\",command=page.destroy)\n",
    "    bt1.place(x=5,y=5)\n",
    "    i3=Label(page,text=\"HOME\",font=(\"Times New Roman\",13),bg='#b0c4de')\n",
    "    i3.place(x=20,y=50)\n",
    "    gb=Label(page,text=\"Accuracy for gender recognition :\"+str(ge_ac()),font=(\"Times New Roman\",11),bg='#b0c4de')\n",
    "    gb.place(x=720,y=10)\n",
    "    def openfile():\n",
    "        filepath=filedialog.askopenfilename(initialdir=\"C:\\\\Users\\\\yasha\\\\OneDrive\\\\upload_gen\")\n",
    "        c=filepath\n",
    "        upb['state']=DISABLED\n",
    "        op=Image.open(c)\n",
    "        op=op.resize((128,128))\n",
    "        my_img= ImageTk.PhotoImage (op)\n",
    "        global img1\n",
    "        img1=Label(page,image=my_img)\n",
    "        img1.image=my_img\n",
    "        img1.place(x=420,y=200)\n",
    "        global lab2\n",
    "        lab2=Label(page,text=\"The above is the Test image\",font=(\"Times New Roman\",11),bg='#b0c4de')\n",
    "        lab2.place(x=400,y=430)\n",
    "        global pre1\n",
    "        if len(read(c))<10:\n",
    "            pre1=Label(page,text=\"Gender : \"+read(c),font=(\"Times New Roman\",11),bg='#b0c4de')\n",
    "            pre1.place(x=400,y=480)\n",
    "        else :\n",
    "            pre1=Label(page,text=read(c),font=(\"Times New Roman\",11),bg='#b0c4de')\n",
    "            pre1.place(x=400,y=480)\n",
    "        upb['state']=DISABLED\n",
    "        global ret1\n",
    "        ret1=Button(page,text=\"Re-try!\",pady=10,padx=50,bg=\"#D3D3D3\",command=retry)\n",
    "        ret1.place(x=420,y=515)\n",
    "    def read(c):\n",
    "        img=(load_images(\"C:\\\\Users\\\\yasha\\\\OneDrive\\\\upload_gen\"))\n",
    "        pat=paths()\n",
    "        for i in range(len(pat)):\n",
    "            if c[35:]==pat[i]:\n",
    "                no=i\n",
    "                break\n",
    "        img1=resize(img[no], (64, 128))\n",
    "        x=get_hog_features(img1)\n",
    "        stri=gender_detection_u(x)\n",
    "        return stri\n",
    "    def retry():\n",
    "        upb['state']=NORMAL\n",
    "        lab2.destroy()\n",
    "        pre1.destroy()\n",
    "        img1.destroy()\n",
    "        ret1.destroy()\n",
    "    def paths():\n",
    "        pat=[]\n",
    "        for images in os.listdir(\"C:\\\\Users\\\\yasha\\\\OneDrive\\\\upload_gen\"):\n",
    "            if (images.endswith(\".png\") or images.endswith(\".jpg\") or images.endswith(\".jpeg\")):\n",
    "                pat.append(os.path.join(images))\n",
    "        return pat\n",
    "    upb=Button(page,text=\"Upload photo\",padx=50,pady=10,bg=\"#D3D3D3\",command=openfile)\n",
    "    upb.place(x=400,y=380)\n",
    "def upload_v():\n",
    "    global filepath\n",
    "    page1.destroy()\n",
    "    page=Toplevel()\n",
    "    page.geometry(\"1000x700\")\n",
    "    page.title(\"RecoME\")\n",
    "    ig = PhotoImage(file='eye.png',master=page) \n",
    "    page.iconphoto(False,ig)\n",
    "    page['bg']='#b0c4de'\n",
    "    bt1=Button(page,text=\"⌂\",pady=10,padx=30,bg=\"#D3D3D3\",command=page.destroy)\n",
    "    bt1.place(x=5,y=5)\n",
    "    i3=Label(page,text=\"HOME\",font=(\"Times New Roman\",13),bg='#b0c4de')\n",
    "    i3.place(x=20,y=50)\n",
    "    vb=Label(page,text=\"Accuracy for vehicle recognition :\"+str(round(ve_ac(),2)),font=(\"Times New Roman\",11),bg='#b0c4de')\n",
    "    vb.place(x=710,y=10)\n",
    "    def openfile():\n",
    "        filepath=filedialog.askopenfilename(initialdir=\"C:\\\\Users\\\\yasha\\\\OneDrive\\\\upload_veh\")\n",
    "        c=filepath\n",
    "        upb['state']=DISABLED\n",
    "        op=Image.open(c)\n",
    "        op=op.resize((128,128))\n",
    "        my_img= ImageTk.PhotoImage (op)\n",
    "        global img\n",
    "        img=Label(page,image=my_img)\n",
    "        img.image=my_img\n",
    "        img.place(x=420,y=200)\n",
    "        global lab1\n",
    "        lab1=Label(page,text=\"The above is the Test image\",font=(\"Times New Roman\",11),bg='#b0c4de')\n",
    "        lab1.place(x=400,y=430)\n",
    "        global pre\n",
    "        if len(read(c))<10:\n",
    "            pre=Label(page,text=\"Vehicle : \"+read(c),font=(\"Times New Roman\",11),bg='#b0c4de')\n",
    "            pre.place(x=400,y=480)\n",
    "        else :\n",
    "            pre=Label(page,text=read(c),font=(\"Times New Roman\",11),bg='#b0c4de')\n",
    "            pre.place(x=400,y=480)            \n",
    "        upb['state']=DISABLED\n",
    "        global ret\n",
    "        ret=Button(page,text=\"Re-try!\",pady=10,padx=50,bg=\"#D3D3D3\",command=retry)\n",
    "        ret.place(x=420,y=515)\n",
    "    def read(c):\n",
    "        img=(load_images(\"C:\\\\Users\\\\yasha\\\\OneDrive\\\\upload_veh\"))\n",
    "        pat=paths()\n",
    "        for i in range(len(pat)):\n",
    "            if c[35:]==pat[i]:\n",
    "                no=i\n",
    "                break\n",
    "        img1=resize(img[no], (64, 128))\n",
    "        x=get_hog_features(img1)\n",
    "        stri=vehicle_detection_u(x)\n",
    "        return stri\n",
    "    def paths():\n",
    "        pat=[]\n",
    "        for images in os.listdir(\"C:\\\\Users\\\\yasha\\\\OneDrive\\\\upload_veh\"):\n",
    "            if (images.endswith(\".png\") or images.endswith(\".jpg\") or images.endswith(\".jpeg\")):\n",
    "                pat.append(os.path.join(images))\n",
    "        return pat\n",
    "    def retry():\n",
    "        upb['state']=NORMAL\n",
    "        lab1.destroy()\n",
    "        pre.destroy()\n",
    "        img.destroy()\n",
    "        ret.destroy()\n",
    "    upb=Button(page,text=\"Upload photo\",padx=50,pady=10,bg=\"#D3D3D3\",command=openfile)\n",
    "    upb.place(x=400,y=380)"
   ]
  },
  {
   "cell_type": "code",
   "execution_count": 60,
   "metadata": {},
   "outputs": [],
   "source": [
    "root=Tk()\n",
    "root.geometry(\"1200x700\")\n",
    "root.title(\"RecoME\")\n",
    "b_g = PhotoImage(file='b_g.png',master=root) \n",
    "my_label=Label(root,image=b_g)\n",
    "my_label.place(x=0,y=0,relwidth=1,relheight=1)\n",
    "ig = PhotoImage(file='eye.png',master=root) \n",
    "root.iconphoto(False,ig)\n",
    "op=Image.open('eye.png')\n",
    "op=op.resize((40,40))\n",
    "my_img= ImageTk.PhotoImage (op)\n",
    "img=Label(root,image=my_img)\n",
    "img.image=my_img\n",
    "img.place(x=720,y=60)\n",
    "bt1=Button(root,text=\"⌂\",pady=10,padx=30,bg=\"#D3D3D3\",state=\"disabled\",font=(\"Arial\",15))\n",
    "bt2=Button(root,text=\"？\",pady=10,padx=30,command=help_btn,bg=\"#D3D3D3\",font=(\"Arial\",15))\n",
    "bt3=Button(root,text=\"⍈\",pady=10,padx=30,command=root.destroy,bg=\"#D3D3D3\",font=(\"Arial\",15))\n",
    "g_b=Button(root,text=\"Gender\",bg=\"#D3D3D3\",padx=70,pady=25,command=select_g,font=(\"Arial\",15))\n",
    "v_b=Button(root,text=\"Vehicle\",bg=\"#D3D3D3\",padx=80,pady=25,command=select_v,font=(\"Arial\",15))\n",
    "h_g=Button(root,text=\"HOG Images\",bg=\"#D3D3D3\",padx=30,pady=10,command=h_btn,font=(\"Arial\",15))\n",
    "i1=Label(root,text=\"EXIT\",font=(\"Times New Roman\",13),bg=\"#D3D3D3\")\n",
    "i1.place(x=1115,y=675)\n",
    "i2=Label(root,text=\"HELP\",font=(\"Times New Roman\",13),bg=\"#D3D3D3\")\n",
    "i2.place(x=28,y=665)\n",
    "i3=Label(root,text=\"HOME\",font=(\"Times New Roman\",13),bg=\"#D3D3D3\")\n",
    "i3.place(x=20,y=50)\n",
    "g_b.place(x=303,y=490)\n",
    "v_b.place(x=670,y=490)\n",
    "bt1.place(x=5,y=5)\n",
    "bt2.place(x=5,y=620)\n",
    "bt3.place(x=1090,y=630)\n",
    "h_g.place(x=5,y=300)\n",
    "\n",
    "root.mainloop()"
   ]
  }
 ],
 "metadata": {
  "colab": {
   "provenance": []
  },
  "kernelspec": {
   "display_name": "Python 3 (ipykernel)",
   "language": "python",
   "name": "python3"
  },
  "language_info": {
   "codemirror_mode": {
    "name": "ipython",
    "version": 3
   },
   "file_extension": ".py",
   "mimetype": "text/x-python",
   "name": "python",
   "nbconvert_exporter": "python",
   "pygments_lexer": "ipython3",
   "version": "3.11.0"
  }
 },
 "nbformat": 4,
 "nbformat_minor": 1
}
